{
 "cells": [
  {
   "cell_type": "code",
   "execution_count": 1,
   "metadata": {},
   "outputs": [
    {
     "name": "stdout",
     "output_type": "stream",
     "text": [
      "[-10, 1, 8, 9, 64]\n"
     ]
    }
   ],
   "source": [
    "def quick_sort(l: list):\n",
    "    if not l:\n",
    "        return []\n",
    "    else:\n",
    "        return (\n",
    "            quick_sort([x for x in l if x < l[0]])\n",
    "            + [l[0]]\n",
    "            + quick_sort([x for x in l if x > l[0]])\n",
    "        )\n",
    "\n",
    "\n",
    "print(quick_sort([1, 8, 9, -10, 64]))"
   ]
  },
  {
   "cell_type": "code",
   "execution_count": 6,
   "metadata": {},
   "outputs": [],
   "source": [
    "def partition(participants, low, high):\n",
    "    i = (low - 1)\n",
    "    pivot = participants[high][\"solved\"]\n",
    " \n",
    "    for j in range(low, high):\n",
    "        if participants[j][\"solved\"] < pivot:\n",
    "            i = i + 1\n",
    "            participants[i], participants[j] = participants[j], participants[i]\n",
    " \n",
    "    participants[i + 1], participants[high] = participants[high], participants[i + 1]\n",
    "    return (i + 1)\n",
    " \n",
    "def quick_sort(participants, low, high):\n",
    "    if low < high:\n",
    "        pi = partition(participants, low, high)\n",
    "        quick_sort(participants, low, pi - 1)\n",
    "        quick_sort(participants, pi + 1, high)\n"
   ]
  },
  {
   "cell_type": "code",
   "execution_count": 14,
   "metadata": {},
   "outputs": [],
   "source": [
    "with open('участники.txt', 'r') as file:\n",
    "    n = int(file.readline())  # число участников\n",
    "    participants = []  # словарь для хранения информации об участниках\n",
    "\n",
    "    # Чтение информации о каждом участнике и сохранение в словаре\n",
    "    for _ in range(n):\n",
    "        login, solved, penalty = file.readline().split()  # читаем строку и разделяем на три части\n",
    "        participants.append({\"login\": login,'solved': int(solved), 'penalty': int(penalty)})  # сохраняем информацию в словаре\n"
   ]
  },
  {
   "cell_type": "code",
   "execution_count": 17,
   "metadata": {},
   "outputs": [
    {
     "name": "stdout",
     "output_type": "stream",
     "text": [
      "Login: user9, Solved: 1, Penalty: 10\n",
      "Login: user6, Solved: 2, Penalty: 30\n",
      "Login: user2, Solved: 3, Penalty: 50\n",
      "Login: user4, Solved: 4, Penalty: 80\n",
      "Login: user10, Solved: 4, Penalty: 75\n",
      "Login: user1, Solved: 5, Penalty: 100\n",
      "Login: user5, Solved: 6, Penalty: 120\n",
      "Login: user3, Solved: 7, Penalty: 150\n",
      "Login: user7, Solved: 8, Penalty: 200\n",
      "Login: user8, Solved: 9, Penalty: 180\n"
     ]
    }
   ],
   "source": [
    "n = len(participants)\n",
    "quick_sort(participants, 0, n - 1)\n",
    "for participant in participants:\n",
    "    print(f\"Login: {participant['login']}, Solved: {participant['solved']}, Penalty: {participant['penalty']}\")"
   ]
  }
 ],
 "metadata": {
  "kernelspec": {
   "display_name": "Python 3",
   "language": "python",
   "name": "python3"
  },
  "language_info": {
   "codemirror_mode": {
    "name": "ipython",
    "version": 3
   },
   "file_extension": ".py",
   "mimetype": "text/x-python",
   "name": "python",
   "nbconvert_exporter": "python",
   "pygments_lexer": "ipython3",
   "version": "3.9.6"
  }
 },
 "nbformat": 4,
 "nbformat_minor": 2
}
